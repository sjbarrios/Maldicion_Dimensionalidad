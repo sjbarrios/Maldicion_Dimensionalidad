{
 "cells": [
  {
   "cell_type": "markdown",
   "metadata": {},
   "source": [
    "Universidad Galileo\n",
    "\n",
    "Statistical Learning II\n",
    "\n",
    "PAPD - Sección V\n",
    "\n",
    "Sergio José Barrios Martínez\n",
    "\n",
    "Carnet No. 19012765\n",
    "\n",
    "## Maldición de Dimensionalidad\n",
    "\n",
    "### Polinomial Features con Scikit-Learn"
   ]
  },
  {
   "cell_type": "code",
   "execution_count": 1,
   "metadata": {},
   "outputs": [],
   "source": [
    "import numpy as np\n",
    "from sklearn.preprocessing import PolynomialFeatures\n",
    "import matplotlib.pyplot as plt"
   ]
  },
  {
   "cell_type": "markdown",
   "metadata": {},
   "source": [
    "#### Ejercicio:\n",
    "Para 1, 2, 3,...,n variables (features o características) ¿Cuántos polinomios de grado 3 pueden generarse?\n",
    "\n",
    "Se desarrolla una función generadora de polinomios, que recibe como parámetro un número que especifica un rango de variables (features o características) y el grado del polinomio. La función calculará los posibles polinomios del grado especificado para cada número de variables en el rango, y mostrará una gráfica del crecimiento del número de términos."
   ]
  },
  {
   "cell_type": "code",
   "execution_count": 2,
   "metadata": {},
   "outputs": [],
   "source": [
    "def generador_polinomios(variables,grado): \n",
    "    \n",
    "    # Arreglos para Almacenar el número de Features y el número de features\n",
    "    # polinomiales generadas con Scikit-Learn\n",
    "    arreglo_polinomiales = []\n",
    "    variables_x =[]\n",
    "    \n",
    "    for i in range(variables):\n",
    "        X = np.arange((i+1)**2).reshape(i+1, i+1)\n",
    "        print(\"Número de Características:\",X.shape[1])\n",
    "        poly = PolynomialFeatures(grado)\n",
    "        features_polinomiales = poly.fit_transform(X)\n",
    "        arreglo_polinomiales = np.append(arreglo_polinomiales,features_polinomiales.shape[1])\n",
    "        variables_x = np.append(variables_x,i+1)\n",
    "        print(\"Grado polinomio:\",grado,\"; Número de Características Polinomiales:\",features_polinomiales.shape[1])\n",
    "        \n",
    "        \n",
    "    # Progreso Número Features Polinomiales vrs. Número de Features\n",
    "    plt.scatter(variables_x, arreglo_polinomiales,c='purple',s=10)\n",
    "    plt.title('Features Polinomiales vrs. Features, Grado:'+str(grado))\n",
    "    plt.xlabel('Features')\n",
    "    plt.ylabel('Features Polinomiales')\n",
    "    plt.show()\n",
    "    \n",
    "    pass"
   ]
  },
  {
   "cell_type": "code",
   "execution_count": 6,
   "metadata": {},
   "outputs": [
    {
     "name": "stdout",
     "output_type": "stream",
     "text": [
      "Número de Características: 1\n",
      "Grado polinomio: 3 ; Número de Características Polinomiales: 4\n",
      "Número de Características: 2\n",
      "Grado polinomio: 3 ; Número de Características Polinomiales: 10\n",
      "Número de Características: 3\n",
      "Grado polinomio: 3 ; Número de Características Polinomiales: 20\n",
      "Número de Características: 4\n",
      "Grado polinomio: 3 ; Número de Características Polinomiales: 35\n",
      "Número de Características: 5\n",
      "Grado polinomio: 3 ; Número de Características Polinomiales: 56\n",
      "Número de Características: 6\n",
      "Grado polinomio: 3 ; Número de Características Polinomiales: 84\n",
      "Número de Características: 7\n",
      "Grado polinomio: 3 ; Número de Características Polinomiales: 120\n",
      "Número de Características: 8\n",
      "Grado polinomio: 3 ; Número de Características Polinomiales: 165\n",
      "Número de Características: 9\n",
      "Grado polinomio: 3 ; Número de Características Polinomiales: 220\n",
      "Número de Características: 10\n",
      "Grado polinomio: 3 ; Número de Características Polinomiales: 286\n",
      "Número de Características: 11\n",
      "Grado polinomio: 3 ; Número de Características Polinomiales: 364\n",
      "Número de Características: 12\n",
      "Grado polinomio: 3 ; Número de Características Polinomiales: 455\n",
      "Número de Características: 13\n",
      "Grado polinomio: 3 ; Número de Características Polinomiales: 560\n",
      "Número de Características: 14\n",
      "Grado polinomio: 3 ; Número de Características Polinomiales: 680\n",
      "Número de Características: 15\n",
      "Grado polinomio: 3 ; Número de Características Polinomiales: 816\n",
      "Número de Características: 16\n",
      "Grado polinomio: 3 ; Número de Características Polinomiales: 969\n",
      "Número de Características: 17\n",
      "Grado polinomio: 3 ; Número de Características Polinomiales: 1140\n",
      "Número de Características: 18\n",
      "Grado polinomio: 3 ; Número de Características Polinomiales: 1330\n",
      "Número de Características: 19\n",
      "Grado polinomio: 3 ; Número de Características Polinomiales: 1540\n",
      "Número de Características: 20\n",
      "Grado polinomio: 3 ; Número de Características Polinomiales: 1771\n"
     ]
    },
    {
     "data": {
      "image/png": "[encoded data removed]",
      "text/plain": [
       "<Figure size 432x288 with 1 Axes>"
      ]
     },
     "metadata": {
      "needs_background": "light"
     },
     "output_type": "display_data"
    }
   ],
   "source": [
    "numero_features = 20\n",
    "grado_polinomio = 3\n",
    "generador_polinomios(numero_features,grado_polinomio)"
   ]
  },
  {
   "cell_type": "markdown",
   "metadata": {},
   "source": [
    "En este caso específico, se probó para un rango entre 1 y 20 variables, todas las distintas combinaciones de términos polinomiales de grado 3 y se contabilizó el número de terminos. Tal y como se vió en clase, este crecimiento es exponencial."
   ]
  }
 ],
 "metadata": {
  "kernelspec": {
   "display_name": "Python 3",
   "language": "python",
   "name": "python3"
  },
  "language_info": {
   "codemirror_mode": {
    "name": "ipython",
    "version": 3
   },
   "file_extension": ".py",
   "mimetype": "text/x-python",
   "name": "python",
   "nbconvert_exporter": "python",
   "pygments_lexer": "ipython3",
   "version": "3.7.7"
  }
 },
 "nbformat": 4,
 "nbformat_minor": 4
}
